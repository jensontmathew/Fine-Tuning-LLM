{
 "cells": [
  {
   "cell_type": "markdown",
   "metadata": {
    "id": "Y2NzPsB2FI5v"
   },
   "source": [
    "### FIne Tuning LLM using Gradient AI"
   ]
  },
  {
   "cell_type": "code",
   "execution_count": 11,
   "metadata": {
    "id": "b9ukvaRD03oE"
   },
   "outputs": [],
   "source": [
    "import os\n",
    "os.environ['GRADIENT_WORKSPACE_ID']='workspaceid'\n",
    "os.environ['GRADIENT_ACCESS_TOKEN']='accesstoken'"
   ]
  },
  {
   "cell_type": "code",
   "execution_count": 14,
   "metadata": {
    "colab": {
     "base_uri": "https://localhost:8080/"
    },
    "id": "_oG-FiIr344J",
    "outputId": "9d36acc5-6719-406d-82b4-e9aa43786753"
   },
   "outputs": [
    {
     "name": "stdout",
     "output_type": "stream",
     "text": [
      "Created model adapter with id 485799d3-0ee5-4347-a0bf-28c4861e5319_model_adapter\n",
      "Asking: ### Instruction: Tell me about Brevan Howard? \n",
      "\n",
      " ### Response:\n",
      "Generated(before fine tuning):  Brevan Howard is a global investment management firm that specializes in alternative investment strategies, particularly in the field of systematic trading and investment management. The firm was founded in 2002 by Alan Howard, who is also one of its managing partners. Brevan Howard has offices in London, New York, Geneva, and Hong Kong, and manages assets worth billions of dollars.\n",
      "\n",
      "The firm employs a team of highly skilled profession\n",
      "Fine tuning the model with iteration 1\n",
      "Fine tuning the model with iteration 2\n",
      "Fine tuning the model with iteration 3\n",
      "Generated(after fine tuning):  Brevan Howard is a leading global investment management firm founded in 2002, specializing in Global Macro and Digital Assets. With offices in New York, London, and Singapore, the firm offers innovative investment solutions and strategies to institutional and individual investors. Brevan Howard is known for its strong track record in Global Macro and Digital Assets investing, and its commitment to delivering consistent, risk-adjusted returns for its clients.\n"
     ]
    }
   ],
   "source": [
    "from gradientai import Gradient\n",
    "\n",
    "\n",
    "def main():\n",
    "    gradient = Gradient()\n",
    "\n",
    "    base_model = gradient.get_base_model(base_model_slug=\"nous-hermes2\")\n",
    "\n",
    "    new_model_adapter = base_model.create_model_adapter(name=\"Financemodel\")\n",
    "    print(f\"Created model adapter with id {new_model_adapter.id}\")\n",
    "\n",
    "    sample_query = \"### Instruction: Tell me about Brevan Howard? \\n\\n ### Response:\"\n",
    "    print(f\"Asking: {sample_query}\")\n",
    "\n",
    "    ## Before Finetuning\n",
    "    completion = new_model_adapter.complete(query=sample_query, max_generated_token_count=100).generated_output\n",
    "    print(f\"Generated(before fine tuning): {completion}\")\n",
    "\n",
    "    samples=[\n",
    "    {\"inputs\":\"### Instruction: Tell me about Brevan howard? \\n\\n### Response:Brevan Howard is a leading global investment management firm founded in 2002, specializing in Global Macro and Digital Assets\"},\n",
    "    {\"inputs\":\"### Instruction: What kind of investments does Brevan Howard focus on? \\n\\n### Response: stocks, bonds, currencies, and even things like gold!\"},\n",
    "    {\"inputs\":\"### Instruction: Why might someone want to work there? \\n\\n### Response: They're known for their smart team, cool technology, and impressive track record.\"},\n",
    "    {\"inputs\":\"### Instruction: Where are their offices? \\n\\n### Response: They have offices in places like London, New York, Singapore and Abu Dhabi.\"}\n",
    "  ]\n",
    "\n",
    "\n",
    "    ## Lets define parameters for finetuning\n",
    "    num_epochs=3\n",
    "    count=0\n",
    "    while count<num_epochs:\n",
    "      print(f\"Fine tuning the model with iteration {count + 1}\")\n",
    "      new_model_adapter.fine_tune(samples=samples)\n",
    "      count=count+1\n",
    "\n",
    "    #after fine tuning\n",
    "    completion = new_model_adapter.complete(query=sample_query, max_generated_token_count=100).generated_output\n",
    "    print(f\"Generated(after fine tuning): {completion}\")\n",
    "    new_model_adapter.delete()\n",
    "    gradient.close()\n",
    "\n",
    "if __name__ == \"__main__\":\n",
    "    main()"
   ]
  }
 ],
 "metadata": {
  "colab": {
   "provenance": []
  },
  "kernelspec": {
   "display_name": "Python 3 (ipykernel)",
   "language": "python",
   "name": "python3"
  },
  "language_info": {
   "codemirror_mode": {
    "name": "ipython",
    "version": 3
   },
   "file_extension": ".py",
   "mimetype": "text/x-python",
   "name": "python",
   "nbconvert_exporter": "python",
   "pygments_lexer": "ipython3",
   "version": "3.9.18"
  }
 },
 "nbformat": 4,
 "nbformat_minor": 1
}
